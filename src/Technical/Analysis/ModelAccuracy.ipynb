{
 "cells": [
  {
   "cell_type": "markdown",
   "source": [
    "<h3>General Plan for this file </h3>\n",
    "<p> I was thinkning that we could put graphs of how accurate\n",
    "the model is at predicting the future by showing the average\n",
    "square distance with respect to the number of bars in the future\n",
    "that we have the models looking into. We could also put something\n",
    "about how it is affected by how many bars of data it gets as inputs.</p>\n",
    "<p> We could do this for the closing price, and for some indicators.\n",
    " We can discuss this more later. </p>\n",
    "\n"
   ],
   "metadata": {
    "collapsed": false,
    "pycharm": {
     "name": "#%% md\n"
    }
   }
  }
 ],
 "metadata": {
  "kernelspec": {
   "display_name": "Python 3",
   "language": "python",
   "name": "python3"
  },
  "language_info": {
   "codemirror_mode": {
    "name": "ipython",
    "version": 2
   },
   "file_extension": ".py",
   "mimetype": "text/x-python",
   "name": "python",
   "nbconvert_exporter": "python",
   "pygments_lexer": "ipython2",
   "version": "2.7.6"
  }
 },
 "nbformat": 4,
 "nbformat_minor": 0
}